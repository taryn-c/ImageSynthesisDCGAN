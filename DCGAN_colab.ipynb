{
  "nbformat": 4,
  "nbformat_minor": 0,
  "metadata": {
    "kernelspec": {
      "name": "python3",
      "display_name": "Python 3"
    },
    "language_info": {
      "codemirror_mode": {
        "name": "ipython",
        "version": 2
      },
      "file_extension": ".py",
      "mimetype": "text/x-python",
      "name": "python",
      "nbconvert_exporter": "python",
      "pygments_lexer": "ipython2",
      "version": "2.7.12"
    },
    "colab": {
      "name": "GAN.ipynb",
      "provenance": [],
      "collapsed_sections": []
    },
    "accelerator": "GPU"
  },
  "cells": [
    {
      "cell_type": "markdown",
      "metadata": {
        "id": "LxpmbXK3RoXT",
        "colab_type": "text"
      },
      "source": [
        "# **DCGAN on 11k Hands**\n",
        "\n",
        "Hands Dataset: 11076 images\n",
        "https://sites.google.com/view/11khands \n",
        "\n",
        "Facades Dataset: 3528 images\n",
        "https://sites.google.com/site/zhexuutssjtu/projects/arch"
      ]
    },
    {
      "cell_type": "markdown",
      "metadata": {
        "id": "_LhW8F_s3iS4",
        "colab_type": "text"
      },
      "source": [
        "### Setup environment"
      ]
    },
    {
      "cell_type": "code",
      "metadata": {
        "id": "nFGYJWMvlroF",
        "colab_type": "code",
        "outputId": "f1eebed8-a68c-4ec6-f6c0-66bc33b49511",
        "colab": {
          "base_uri": "https://localhost:8080/",
          "height": 124
        }
      },
      "source": [
        "from google.colab import drive\n",
        "drive.mount('/content/drive')"
      ],
      "execution_count": 0,
      "outputs": [
        {
          "output_type": "stream",
          "text": [
            "Go to this URL in a browser: https://accounts.google.com/o/oauth2/auth?client_id=947318989803-6bn6qk8qdgf4n4g3pfee6491hc0brc4i.apps.googleusercontent.com&redirect_uri=urn%3aietf%3awg%3aoauth%3a2.0%3aoob&response_type=code&scope=email%20https%3a%2f%2fwww.googleapis.com%2fauth%2fdocs.test%20https%3a%2f%2fwww.googleapis.com%2fauth%2fdrive%20https%3a%2f%2fwww.googleapis.com%2fauth%2fdrive.photos.readonly%20https%3a%2f%2fwww.googleapis.com%2fauth%2fpeopleapi.readonly\n",
            "\n",
            "Enter your authorization code:\n",
            "··········\n",
            "Mounted at /content/drive\n"
          ],
          "name": "stdout"
        }
      ]
    },
    {
      "cell_type": "code",
      "metadata": {
        "id": "p-v4LleoTE_4",
        "colab_type": "code",
        "outputId": "6fb0dd80-d4a3-4f49-b3cb-182e6c8acb36",
        "colab": {
          "base_uri": "https://localhost:8080/",
          "height": 34
        }
      },
      "source": [
        "%tensorflow_version 2.x"
      ],
      "execution_count": 0,
      "outputs": [
        {
          "output_type": "stream",
          "text": [
            "TensorFlow 2.x selected.\n"
          ],
          "name": "stdout"
        }
      ]
    },
    {
      "cell_type": "code",
      "metadata": {
        "id": "q3VXzIQgi944",
        "colab_type": "code",
        "outputId": "0ee96f18-bdcf-4bcf-b6d3-0fb03067c868",
        "colab": {
          "base_uri": "https://localhost:8080/",
          "height": 34
        }
      },
      "source": [
        "import tensorflow as tf\n",
        "import keras\n",
        "import glob\n",
        "from matplotlib import pyplot as plt\n",
        "import numpy as np\n",
        "import pathlib\n",
        "import IPython.display as display\n",
        "import os\n",
        "from PIL import Image\n",
        "from tensorflow.keras import layers\n",
        "import time\n",
        "import imageio"
      ],
      "execution_count": 0,
      "outputs": [
        {
          "output_type": "stream",
          "text": [
            "Using TensorFlow backend.\n"
          ],
          "name": "stderr"
        }
      ]
    },
    {
      "cell_type": "code",
      "metadata": {
        "id": "DEiW2R9mI1km",
        "colab_type": "code",
        "colab": {}
      },
      "source": [
        "# Configure tensorflow\n",
        "AUTOTUNE = tf.data.experimental.AUTOTUNE\n",
        "#tf.enable_eager_execution()\n",
        "tf.random.set_seed(0)"
      ],
      "execution_count": 0,
      "outputs": []
    },
    {
      "cell_type": "code",
      "metadata": {
        "id": "Oak_BynjqKAU",
        "colab_type": "code",
        "outputId": "12483473-707b-4eb9-ac1d-7ddede6cfeae",
        "colab": {
          "base_uri": "https://localhost:8080/",
          "height": 34
        }
      },
      "source": [
        "%cd /content/drive/My Drive/CMPT419/"
      ],
      "execution_count": 0,
      "outputs": [
        {
          "output_type": "stream",
          "text": [
            "/content/drive/My Drive/CMPT419\n"
          ],
          "name": "stdout"
        }
      ]
    },
    {
      "cell_type": "markdown",
      "metadata": {
        "id": "rRCGXg7oRWe3",
        "colab_type": "text"
      },
      "source": [
        "## **1. Process Data**"
      ]
    },
    {
      "cell_type": "code",
      "metadata": {
        "id": "B2wHd44Ht5jb",
        "colab_type": "code",
        "colab": {}
      },
      "source": [
        "#!unzip Hands.zip;\n",
        "#!unzip arcDataset.zip;"
      ],
      "execution_count": 0,
      "outputs": []
    },
    {
      "cell_type": "code",
      "metadata": {
        "id": "4vrfXcdki95O",
        "colab_type": "code",
        "colab": {}
      },
      "source": [
        "# declare parameters\n",
        "BUFFER_SIZE = 400\n",
        "BATCH_SIZE = 128\n",
        "IMG_WIDTH = 64\n",
        "IMG_HEIGHT = 64"
      ],
      "execution_count": 0,
      "outputs": []
    },
    {
      "cell_type": "markdown",
      "metadata": {
        "id": "i7WK3Zr52_DY",
        "colab_type": "text"
      },
      "source": [
        "### Helper fucntions for fetching and displaying images"
      ]
    },
    {
      "cell_type": "code",
      "metadata": {
        "id": "zTzy00E1i95X",
        "colab_type": "code",
        "colab": {}
      },
      "source": [
        "# define function for loading images file\n",
        "# input: file path\n",
        "# output: eager tensor of shape=(IMG_WIDTH, IMG_HEIGHT, 3) of dtype=float32\n",
        "def load(image_file):\n",
        "  img = tf.io.read_file(image_file)\n",
        "  # convert the compressed string to a 3D uint8 tensor\n",
        "  img = tf.image.decode_jpeg(img, channels=3)\n",
        "  image = image[:, :, :]\n",
        "  # Use `convert_image_dtype` to convert to floats in the [0,1] range.\n",
        "  img = tf.image.convert_image_dtype(img, tf.float32)\n",
        "  # resize the image to the desired size.\n",
        "  return tf.image.resize(img, [IMG_WIDTH, IMG_HEIGHT])"
      ],
      "execution_count": 0,
      "outputs": []
    },
    {
      "cell_type": "code",
      "metadata": {
        "id": "RWaVRVnYH6Oq",
        "colab_type": "code",
        "colab": {}
      },
      "source": [
        "def decode_img(img):\n",
        "  # convert the compressed string to a 3D uint8 tensor\n",
        "  img = tf.image.decode_jpeg(img, channels=3)\n",
        "  # Use `convert_image_dtype` to convert to floats in the [0,1] range.\n",
        "  img = tf.image.convert_image_dtype(img, tf.float32)\n",
        "  #img = (img - 127.5) / 127.5 # Normalize the image to [-1, 1]\n",
        "  # resize the image to the desired size.\n",
        "  return tf.image.resize(img, [IMG_WIDTH, IMG_HEIGHT])"
      ],
      "execution_count": 0,
      "outputs": []
    },
    {
      "cell_type": "code",
      "metadata": {
        "id": "KL4tfbYVH6Yu",
        "colab_type": "code",
        "colab": {}
      },
      "source": [
        "# input: file path string\n",
        "# output: decoded image\n",
        "def process_path(file_path):\n",
        "  # load the raw data from the file as a string\n",
        "  img = tf.io.read_file(file_path)\n",
        "  print(img)\n",
        "  img = decode_img(img)\n",
        "  return img"
      ],
      "execution_count": 0,
      "outputs": []
    },
    {
      "cell_type": "code",
      "metadata": {
        "id": "R-6-z2YiLOs2",
        "colab_type": "code",
        "colab": {}
      },
      "source": [
        "# input: dataset\n",
        "# output: shuffled and batched (size of BATCH_SIZE) dataset\n",
        "def prepare_for_training(ds, cache=True, shuffle_buffer_size=1000):\n",
        "  # This is a small dataset, only load it once, and keep it in memory.\n",
        "  # use `.cache(filename)` to cache preprocessing work for datasets that don't\n",
        "  # fit in memory.\n",
        "  if cache:\n",
        "    if isinstance(cache, str):\n",
        "      ds = ds.cache(cache)\n",
        "    else:\n",
        "      ds = ds.cache()\n",
        "\n",
        "  ds = ds.shuffle(buffer_size=shuffle_buffer_size)\n",
        "  ds = ds.batch(BATCH_SIZE)\n",
        "\n",
        "  # `prefetch` lets the dataset fetch batches in the background while the model\n",
        "  # is training.\n",
        "  ds = ds.prefetch(buffer_size=AUTOTUNE)\n",
        "\n",
        "  return ds"
      ],
      "execution_count": 0,
      "outputs": []
    },
    {
      "cell_type": "code",
      "metadata": {
        "id": "eqVDuPJcK9uY",
        "colab_type": "code",
        "colab": {}
      },
      "source": [
        "def show_batch(image_batch):\n",
        "  plt.figure(figsize=(10,10))\n",
        "  for n in range(25):\n",
        "      ax = plt.subplot(5,5,n+1)\n",
        "      plt.imshow(image_batch[n])\n",
        "      plt.axis('off')"
      ],
      "execution_count": 0,
      "outputs": []
    },
    {
      "cell_type": "markdown",
      "metadata": {
        "id": "m4cEtyHw3Rfg",
        "colab_type": "text"
      },
      "source": [
        "### Executing processing"
      ]
    },
    {
      "cell_type": "code",
      "metadata": {
        "id": "8vW2Q4G7IhpJ",
        "colab_type": "code",
        "colab": {}
      },
      "source": [
        "list_ds = tf.data.Dataset.list_files('Hands/*.jpg')"
      ],
      "execution_count": 0,
      "outputs": []
    },
    {
      "cell_type": "code",
      "metadata": {
        "id": "dVE1pIh-IYhJ",
        "colab_type": "code",
        "outputId": "6aa35db2-61fd-4691-af11-5772600c2590",
        "colab": {
          "base_uri": "https://localhost:8080/",
          "height": 34
        }
      },
      "source": [
        "# Set `num_parallel_calls` so multiple images are loaded/processed in parallel.\n",
        "processed_ds = list_ds.map(process_path, num_parallel_calls=AUTOTUNE)"
      ],
      "execution_count": 0,
      "outputs": [
        {
          "output_type": "stream",
          "text": [
            "Tensor(\"ReadFile:0\", shape=(), dtype=string)\n"
          ],
          "name": "stdout"
        }
      ]
    },
    {
      "cell_type": "code",
      "metadata": {
        "id": "qHn7mwJ8L7kn",
        "colab_type": "code",
        "colab": {}
      },
      "source": [
        "filecache_ds = prepare_for_training(processed_ds, cache=\"./hands.tfcache\")"
      ],
      "execution_count": 0,
      "outputs": []
    },
    {
      "cell_type": "code",
      "metadata": {
        "id": "vLm51FJrLcVQ",
        "colab_type": "code",
        "colab": {}
      },
      "source": [
        "# shuffle data\n",
        "train_ds = prepare_for_training(processed_ds)\n",
        "# create image batch\n",
        "image_batch = next(iter(train_ds))"
      ],
      "execution_count": 0,
      "outputs": []
    },
    {
      "cell_type": "markdown",
      "metadata": {
        "id": "6F-t0XFey0nX",
        "colab_type": "text"
      },
      "source": [
        "### Dataset Info"
      ]
    },
    {
      "cell_type": "code",
      "metadata": {
        "id": "Jg6tDonVyInX",
        "colab_type": "code",
        "outputId": "55690da1-008e-4795-e676-8d39dbb43c15",
        "colab": {
          "base_uri": "https://localhost:8080/",
          "height": 34
        }
      },
      "source": [
        "# Show size of dataset\n",
        "images = list(glob.glob('Hands/*.jpg'))\n",
        "image_count = len(images)\n",
        "image_count"
      ],
      "execution_count": 0,
      "outputs": [
        {
          "output_type": "execute_result",
          "data": {
            "text/plain": [
              "11076"
            ]
          },
          "metadata": {
            "tags": []
          },
          "execution_count": 23
        }
      ]
    },
    {
      "cell_type": "code",
      "metadata": {
        "id": "TiHIsNfcNXbE",
        "colab_type": "code",
        "outputId": "143b950b-60ea-4eba-ef6e-2c3bba5da643",
        "colab": {
          "base_uri": "https://localhost:8080/",
          "height": 34
        }
      },
      "source": [
        "num_batches = tf.data.experimental.cardinality(train_ds).numpy()\n",
        "num_batches"
      ],
      "execution_count": 0,
      "outputs": [
        {
          "output_type": "execute_result",
          "data": {
            "text/plain": [
              "87"
            ]
          },
          "metadata": {
            "tags": []
          },
          "execution_count": 24
        }
      ]
    },
    {
      "cell_type": "code",
      "metadata": {
        "id": "95iEQR0OJW_j",
        "colab_type": "code",
        "outputId": "9b027b79-9bbb-4f50-fed9-b26887b889bd",
        "colab": {
          "base_uri": "https://localhost:8080/",
          "height": 34
        }
      },
      "source": [
        "# Print shape of images\n",
        "for image in processed_ds.take(1):\n",
        "  print(\"Image shape: \", image.numpy().shape)"
      ],
      "execution_count": 0,
      "outputs": [
        {
          "output_type": "stream",
          "text": [
            "Image shape:  (64, 64, 3)\n"
          ],
          "name": "stdout"
        }
      ]
    },
    {
      "cell_type": "code",
      "metadata": {
        "id": "Hlo_-J1ILiX3",
        "colab_type": "code",
        "outputId": "496ba0fe-d715-4751-d0fd-cc49ad300b70",
        "colab": {
          "base_uri": "https://localhost:8080/",
          "height": 575
        }
      },
      "source": [
        "show_batch(image_batch.numpy())"
      ],
      "execution_count": 0,
      "outputs": [
        {
          "output_type": "display_data",
          "data": {
            "image/png": "[encoded data removed]",
            "text/plain": [
              "<Figure size 720x720 with 25 Axes>"
            ]
          },
          "metadata": {
            "tags": []
          }
        }
      ]
    },
    {
      "cell_type": "markdown",
      "metadata": {
        "id": "1P6LSNAQSBS4",
        "colab_type": "text"
      },
      "source": [
        "## **2. Create Models**\n",
        "\n",
        "Adapted from:\n",
        "\n",
        "https://www.tensorflow.org/tutorials/generative/dcgan\n",
        "\n",
        "https://machinelearningmastery.com/how-to-get-started-with-generative-adversarial-networks-7-day-mini-course/\n",
        "\n",
        "Convolutional Math:\n",
        "http://deeplearning.net/software/theano/tutorial/conv_arithmetic.html"
      ]
    },
    {
      "cell_type": "markdown",
      "metadata": {
        "id": "bRK5owM575t7",
        "colab_type": "text"
      },
      "source": [
        "### Generator\n",
        "\n",
        "Dense layer: densely connected CNN\n",
        "\n",
        "Upsample with transpose convolution layers. "
      ]
    },
    {
      "cell_type": "code",
      "metadata": {
        "id": "cfRvwgLqRn5U",
        "colab_type": "code",
        "colab": {}
      },
      "source": [
        "def make_generator_model():\n",
        "    model = tf.keras.Sequential()\n",
        "    # project and reshape\n",
        "    model.add(layers.Dense(4*4*1024, use_bias=False, input_shape=(100,)))\n",
        "    model.add(layers.BatchNormalization())\n",
        "    model.add(layers.LeakyReLU())\n",
        "    model.add(layers.Reshape((4, 4, 1024)))\n",
        "    assert model.output_shape == (None, 4, 4, 1024) # Note: None is the batch size\n",
        "\n",
        "    # upsample to 8x8x512\n",
        "    model.add(layers.Conv2DTranspose(512, (5, 5), strides=(2, 2), padding='same', use_bias=False))\n",
        "    assert model.output_shape == (None, 8, 8, 512)\n",
        "    model.add(layers.BatchNormalization())\n",
        "    model.add(layers.LeakyReLU())\n",
        "\n",
        "    model.add(layers.Conv2DTranspose(256, (5, 5), strides=(2, 2), padding='same', use_bias=False))\n",
        "    assert model.output_shape == (None, 16, 16, 256)\n",
        "    model.add(layers.BatchNormalization())\n",
        "    model.add(layers.LeakyReLU())\n",
        "\n",
        "    model.add(layers.Conv2DTranspose(128, (5, 5), strides=(2, 2), padding='same', use_bias=False))\n",
        "    assert model.output_shape == (None, 32, 32, 128)\n",
        "    model.add(layers.BatchNormalization())\n",
        "    model.add(layers.LeakyReLU())\n",
        "\n",
        "    model.add(layers.Conv2DTranspose(3, (5, 5), strides=(2, 2), padding='same', use_bias=False, activation='tanh'))\n",
        "    assert model.output_shape == (None, 64, 64, 3)\n",
        "\n",
        "    return model"
      ],
      "execution_count": 0,
      "outputs": []
    },
    {
      "cell_type": "code",
      "metadata": {
        "id": "ffrCAMDEXENx",
        "colab_type": "code",
        "outputId": "4c1472aa-4cfd-4356-ae28-6cbc3246dfa2",
        "colab": {
          "base_uri": "https://localhost:8080/",
          "height": 285
        }
      },
      "source": [
        "# Generate image from untrained generator\n",
        "generator = make_generator_model()\n",
        "\n",
        "noise = tf.random.normal([1, 100])\n",
        "generated_image = generator(noise, training=False)\n",
        "plt.imshow(generated_image[0,:,:,0])"
      ],
      "execution_count": 0,
      "outputs": [
        {
          "output_type": "execute_result",
          "data": {
            "text/plain": [
              "<matplotlib.image.AxesImage at 0x7f818c53dbe0>"
            ]
          },
          "metadata": {
            "tags": []
          },
          "execution_count": 19
        },
        {
          "output_type": "display_data",
          "data": {
            "image/png": "[encoded data removed]",
            "text/plain": [
              "<Figure size 432x288 with 1 Axes>"
            ]
          },
          "metadata": {
            "tags": []
          }
        }
      ]
    },
    {
      "cell_type": "markdown",
      "metadata": {
        "id": "DwE9tKmF72Ii",
        "colab_type": "text"
      },
      "source": [
        "### Discriminator\n",
        "\n",
        "Downsample with convolution layers.\n",
        "\n",
        "Layers adapted from: \n",
        "http://bamos.github.io/2016/08/09/deep-completion/"
      ]
    },
    {
      "cell_type": "code",
      "metadata": {
        "id": "3pJ6OWxsR1cU",
        "colab_type": "code",
        "colab": {}
      },
      "source": [
        "def make_discriminator_model():\n",
        "    model = tf.keras.Sequential()\n",
        "    # downsample to 32x32x64\n",
        "    model.add(layers.Conv2D(64, (5, 5), strides=(2, 2), padding='same',\n",
        "                                     input_shape=[64, 64, 3]))\n",
        "    model.add(layers.LeakyReLU())\n",
        "    model.add(layers.Dropout(0.3)) # prevents overfitting\n",
        "    \n",
        "    # downsample to 16x16x128\n",
        "    model.add(layers.Conv2D(128, (5, 5), strides=(2, 2), padding='same'))\n",
        "    model.add(layers.LeakyReLU())\n",
        "    model.add(layers.Dropout(0.3))\n",
        "    assert model.output_shape == (None, 16, 16, 128)\n",
        "\n",
        "    # downsample to 8x8x256\n",
        "    model.add(layers.Conv2D(256, (5, 5), strides=(2, 2), padding='same'))\n",
        "    model.add(layers.LeakyReLU())\n",
        "    model.add(layers.Dropout(0.3))\n",
        "\n",
        "    # downsample to 4x4xx512\n",
        "    model.add(layers.Conv2D(512, (5, 5), strides=(2, 2), padding='same'))\n",
        "    model.add(layers.LeakyReLU())\n",
        "    model.add(layers.Dropout(0.3))\n",
        "\n",
        "    # output to 1x1x1\n",
        "    model.add(layers.Flatten())\n",
        "    model.add(layers.Dense(1))\n",
        "\n",
        "    return model"
      ],
      "execution_count": 0,
      "outputs": []
    },
    {
      "cell_type": "code",
      "metadata": {
        "id": "MLK3D1KKXv8d",
        "colab_type": "code",
        "outputId": "1de8cf4d-a939-403c-e4c4-724b78222f42",
        "colab": {
          "base_uri": "https://localhost:8080/",
          "height": 34
        }
      },
      "source": [
        "discriminator = make_discriminator_model()\n",
        "decision = discriminator(generated_image)\n",
        "print (decision)"
      ],
      "execution_count": 0,
      "outputs": [
        {
          "output_type": "stream",
          "text": [
            "tf.Tensor([[5.289193e-05]], shape=(1, 1), dtype=float32)\n"
          ],
          "name": "stdout"
        }
      ]
    },
    {
      "cell_type": "markdown",
      "metadata": {
        "id": "cYQ77ladYEi1",
        "colab_type": "text"
      },
      "source": [
        "## **3. Define Loss and Optimizers**\n"
      ]
    },
    {
      "cell_type": "markdown",
      "metadata": {
        "id": "uDEMiFsfRsRA",
        "colab_type": "text"
      },
      "source": [
        "Binary cross entropy is essentially the difference in the predicted probability of n and the actual probability of n.\n",
        "\n",
        "Minimizing cross entropy is equivalent to minimizing the negative log likelihood of our data, which is a direct measure of the predictive power of our model."
      ]
    },
    {
      "cell_type": "code",
      "metadata": {
        "id": "x87Qq7K8YYO9",
        "colab_type": "code",
        "colab": {}
      },
      "source": [
        "# This method returns a helper function to compute cross entropy loss\n",
        "cross_entropy = tf.keras.losses.BinaryCrossentropy(from_logits=True)"
      ],
      "execution_count": 0,
      "outputs": []
    },
    {
      "cell_type": "markdown",
      "metadata": {
        "id": "-DgZGtrdyGxN",
        "colab_type": "text"
      },
      "source": [
        "### Discriminator Loss\n",
        "\n",
        "This method quantifies how well the discriminator is able to distinguish real images from fakes. It compares the discriminator's predictions on real images to an array of 1s, and the discriminator's predictions on fake (generated) images to an array of 0s."
      ]
    },
    {
      "cell_type": "code",
      "metadata": {
        "id": "khy0nloUYdr4",
        "colab_type": "code",
        "colab": {}
      },
      "source": [
        "def discriminator_loss(real_output, fake_output):\n",
        "    real_loss = cross_entropy(tf.ones_like(real_output), real_output)\n",
        "    fake_loss = cross_entropy(tf.zeros_like(fake_output), fake_output)\n",
        "    total_loss = real_loss + fake_loss\n",
        "    return total_loss"
      ],
      "execution_count": 0,
      "outputs": []
    },
    {
      "cell_type": "markdown",
      "metadata": {
        "id": "6c87MFw1x9w4",
        "colab_type": "text"
      },
      "source": [
        "### Generator Loss\n",
        "\n",
        "The generator's loss quantifies how well it was able to trick the discriminator. Intuitively, if the generator is performing well, the discriminator will classify the fake images as real (or 1). Here, we will compare the discriminators decisions on the generated images to an array of 1s."
      ]
    },
    {
      "cell_type": "code",
      "metadata": {
        "id": "uKsfc78xYhED",
        "colab_type": "code",
        "colab": {}
      },
      "source": [
        "def generator_loss(fake_output):\n",
        "    return cross_entropy(tf.ones_like(fake_output), fake_output)"
      ],
      "execution_count": 0,
      "outputs": []
    },
    {
      "cell_type": "markdown",
      "metadata": {
        "id": "dwyYffwbTOuX",
        "colab_type": "text"
      },
      "source": [
        "### Optimizers\n",
        "\n",
        "Adam stochastic gradient descent computes individual adaptive learning rates for different parameters from estimates of first and second moments of the gradients.\n",
        "\n",
        "https://machinelearningmastery.com/adam-optimization-algorithm-for-deep-learning/"
      ]
    },
    {
      "cell_type": "code",
      "metadata": {
        "id": "J1aNdYOwYmho",
        "colab_type": "code",
        "colab": {}
      },
      "source": [
        "generator_optimizer = tf.keras.optimizers.Adam(1e-4)\n",
        "discriminator_optimizer = tf.keras.optimizers.Adam(1e-4)"
      ],
      "execution_count": 0,
      "outputs": []
    },
    {
      "cell_type": "markdown",
      "metadata": {
        "id": "1zYrpXHAySd3",
        "colab_type": "text"
      },
      "source": [
        "### Checkpoints\n"
      ]
    },
    {
      "cell_type": "code",
      "metadata": {
        "id": "dZ5VIis2YtjA",
        "colab_type": "code",
        "colab": {}
      },
      "source": [
        "# Save checkpoints\n",
        "checkpoint_dir = './training_checkpoints'\n",
        "checkpoint_prefix = os.path.join(checkpoint_dir, \"ckpt\")\n",
        "checkpoint = tf.train.Checkpoint(step=tf.Variable(1),\n",
        "                                 generator_optimizer=generator_optimizer,\n",
        "                                 discriminator_optimizer=discriminator_optimizer,\n",
        "                                 generator=generator,\n",
        "                                 discriminator=discriminator)"
      ],
      "execution_count": 0,
      "outputs": []
    },
    {
      "cell_type": "code",
      "metadata": {
        "id": "Js9bbBNLS1NW",
        "colab_type": "code",
        "colab": {}
      },
      "source": [
        "manager = tf.train.CheckpointManager(checkpoint, './training_checkpoints', max_to_keep=3)"
      ],
      "execution_count": 0,
      "outputs": []
    },
    {
      "cell_type": "markdown",
      "metadata": {
        "id": "0SMhFrMqSdCi",
        "colab_type": "text"
      },
      "source": [
        "## **4. Training**\n"
      ]
    },
    {
      "cell_type": "code",
      "metadata": {
        "id": "TLy_Djv0Sh9W",
        "colab_type": "code",
        "colab": {}
      },
      "source": [
        "EPOCHS = 50\n",
        "noise_dim = 100\n",
        "num_examples_to_generate = 16\n",
        "\n",
        "# We will reuse this seed overtime (so it's easier)\n",
        "# to visualize progress in the animated GIF)\n",
        "seed = tf.random.normal([num_examples_to_generate, noise_dim])"
      ],
      "execution_count": 0,
      "outputs": []
    },
    {
      "cell_type": "markdown",
      "metadata": {
        "id": "I7vSoJzpqz44",
        "colab_type": "text"
      },
      "source": [
        "### Training loop\n",
        "\n",
        "The training loop begins with generator receiving a random seed as input. That seed is used to produce an image. The discriminator is then used to classify real images (drawn from the training set) and fakes images (produced by the generator). The loss is calculated for each of these models, and the gradients are used to update the generator and discriminator."
      ]
    },
    {
      "cell_type": "code",
      "metadata": {
        "id": "_tQVXhvFY52o",
        "colab_type": "code",
        "colab": {}
      },
      "source": [
        "# Notice the use of `tf.function`\n",
        "# This annotation causes the function to be \"compiled\".\n",
        "#@tf.function\n",
        "def train_step(images):\n",
        "    # random noise for generator\n",
        "    noise = tf.random.normal([BATCH_SIZE, noise_dim])\n",
        "\n",
        "    with tf.GradientTape() as gen_tape, tf.GradientTape() as disc_tape:\n",
        "      generated_images = generator(noise, training=True)\n",
        "\n",
        "      real_output = discriminator(images, training=True)\n",
        "      fake_output = discriminator(generated_images, training=True)\n",
        "\n",
        "      # calculate loss\n",
        "      gen_loss = generator_loss(fake_output)\n",
        "      disc_loss = discriminator_loss(real_output, fake_output)\n",
        "\n",
        "    # calculate gradients\n",
        "    gradients_of_generator = gen_tape.gradient(gen_loss, generator.trainable_variables)\n",
        "    gradients_of_discriminator = disc_tape.gradient(disc_loss, discriminator.trainable_variables)\n",
        "\n",
        "    generator_optimizer.apply_gradients(zip(gradients_of_generator, generator.trainable_variables))\n",
        "    discriminator_optimizer.apply_gradients(zip(gradients_of_discriminator, discriminator.trainable_variables))"
      ],
      "execution_count": 0,
      "outputs": []
    },
    {
      "cell_type": "markdown",
      "metadata": {
        "id": "Q7Kv4MCm1MOl",
        "colab_type": "text"
      },
      "source": [
        "### Training function\n",
        "\n",
        "Times execution and displays the progress of the models by generating images from the seed. It saves a checkpoint every 5 epochs. "
      ]
    },
    {
      "cell_type": "code",
      "metadata": {
        "id": "wI4zlideY-Jw",
        "colab_type": "code",
        "colab": {}
      },
      "source": [
        "def train(dataset, epochs,training):\n",
        "\n",
        "  train_start = time.time()\n",
        "  for epoch in range(epochs):\n",
        "    start = time.time()\n",
        "    batch_count = 0;\n",
        "\n",
        "    for image_batch in dataset:\n",
        "      train_step(image_batch)\n",
        "      batch_count += 1\n",
        "      display.clear_output(wait=True)\n",
        "      print('Batches processed {0}'.format(batch_count))\n",
        "      print('Epoch: {0}'.format(epoch + 1))\n",
        "\n",
        "    # Produce images for the GIF as we go\n",
        "    display.clear_output(wait=True)\n",
        "    generate_and_save_images(generator,\n",
        "                             epoch + 1,\n",
        "                             seed,\n",
        "                             training)\n",
        "\n",
        "    # Save the model every 15 epochs\n",
        "    if (epoch + 1) % 5 == 0:\n",
        "      checkpoint.save(file_prefix = checkpoint_prefix)\n",
        "\n",
        "    print ('Time for epoch {} is {} sec'.format(epoch + 1, time.time()-start))\n",
        "\n",
        "  # Generate after the final epoch\n",
        "  end = time.time()\n",
        "  display.clear_output(wait=True)\n",
        "  generate_and_save_images(generator,\n",
        "                           epochs,\n",
        "                           seed,\n",
        "                           training)\n",
        "  hours, rem = divmod(end-train_start, 3600)\n",
        "  minutes, seconds = divmod(rem, 60)\n",
        "  print ('Time for training is {} hours and {} mins.'.format(int(hours),int(minutes)))"
      ],
      "execution_count": 0,
      "outputs": []
    },
    {
      "cell_type": "markdown",
      "metadata": {
        "id": "mBbKMq9W2Hly",
        "colab_type": "text"
      },
      "source": [
        "### Restoring checkpoints and resuming training"
      ]
    },
    {
      "cell_type": "code",
      "metadata": {
        "id": "zMSTU59vrPEx",
        "colab_type": "code",
        "colab": {}
      },
      "source": [
        "#checkpoint.restore(tf.train.latest_checkpoint(checkpoint_dir))"
      ],
      "execution_count": 0,
      "outputs": []
    },
    {
      "cell_type": "code",
      "metadata": {
        "id": "NBbg5xs6xAOz",
        "colab_type": "code",
        "colab": {}
      },
      "source": [
        "def restore_train(dataset, epochs,training,offset):\n",
        "  \n",
        "  checkpoint.restore(manager.latest_checkpoint)\n",
        "  if manager.latest_checkpoint:\n",
        "    display.clear_output(wait=True)\n",
        "    print(\"Restored from {} ending at step {}\".format(manager.latest_checkpoint,int(checkpoint.step)))\n",
        "  else:\n",
        "    display.clear_output(wait=True)\n",
        "    print(\"Initializing from scratch.\")\n",
        "\n",
        "  train_start = time.time()\n",
        "  for epoch in range(epochs):\n",
        "    epoch+=offset\n",
        "    start = time.time()\n",
        "    batch_count = 0;\n",
        "\n",
        "    for image_batch in dataset:\n",
        "      train_step(image_batch)\n",
        "      batch_count += 1\n",
        "      display.clear_output(wait=True)\n",
        "      print('Batches processed {0}'.format(batch_count))\n",
        "      print('Epoch: {0}'.format(epoch + 1))\n",
        "\n",
        "    # Produce images for the GIF as we go\n",
        "    display.clear_output(wait=True)\n",
        "    generate_and_save_images(generator,\n",
        "                             epoch + 1,\n",
        "                             seed,\n",
        "                             training)\n",
        "\n",
        "    # Save the model every 15 epochs\n",
        "    if (epoch + 1) % 5 == 0:\n",
        "      checkpoint.save(file_prefix = checkpoint_prefix)\n",
        "\n",
        "    print ('Time for epoch {} is {} sec'.format(epoch + 1, time.time()-start))\n",
        "\n",
        "  # Generate after the final epoch\n",
        "  end = time.time()\n",
        "  display.clear_output(wait=True)\n",
        "  generate_and_save_images(generator,\n",
        "                           epochs,\n",
        "                           seed,\n",
        "                           training)\n",
        "  hours, rem = divmod(end-train_start, 3600)\n",
        "  minutes, seconds = divmod(rem, 60)\n",
        "  print ('Time for training is {} hours and {} mins.'.format(int(hours),int(minutes)))"
      ],
      "execution_count": 0,
      "outputs": []
    },
    {
      "cell_type": "markdown",
      "metadata": {
        "id": "ubytS0cn2N4d",
        "colab_type": "text"
      },
      "source": [
        "### Helper functions to generate images and gifs"
      ]
    },
    {
      "cell_type": "code",
      "metadata": {
        "id": "_2nN3ZWnZAuZ",
        "colab_type": "code",
        "colab": {}
      },
      "source": [
        "def generate_and_save_images(model, epoch, test_input,training):\n",
        "  # Notice `training` is set to False.\n",
        "  # This is so all layers run in inference mode (batchnorm).\n",
        "  predictions = model(test_input, training=False)\n",
        "\n",
        "  fig = plt.figure(figsize=(4,4))\n",
        "\n",
        "  for i in range(predictions.shape[0]):\n",
        "      plt.subplot(4, 4, i+1)\n",
        "      plt.imshow(predictions[i])# * 127.5 + 127.5)\n",
        "      plt.axis('off')\n",
        "\n",
        "  plt.savefig('train{:02d}/image_at_epoch_{:04d}.png'.format(training,epoch))\n",
        "  plt.show()"
      ],
      "execution_count": 0,
      "outputs": []
    },
    {
      "cell_type": "code",
      "metadata": {
        "id": "Ft5SUxnxknLk",
        "colab_type": "code",
        "colab": {}
      },
      "source": [
        "def generate_gif(training):\n",
        "  anim_file = 'train{:02}/dcgan{:02d}.gif'.format(training,training)\n",
        "\n",
        "  with imageio.get_writer(anim_file, mode='I') as writer:\n",
        "    filenames = glob.glob('train{:02}/image*.png'.format(training))\n",
        "    filenames = sorted(filenames)\n",
        "    last = -1\n",
        "    for i,filename in enumerate(filenames):\n",
        "      frame = 2*(i**0.25)\n",
        "      if round(frame) > round(last):\n",
        "        last = frame\n",
        "      else:\n",
        "        continue\n",
        "      image = imageio.imread(filename)\n",
        "      writer.append_data(image)\n",
        "      image = imageio.imread(filename)\n",
        "      writer.append_data(image)"
      ],
      "execution_count": 0,
      "outputs": []
    },
    {
      "cell_type": "markdown",
      "metadata": {
        "id": "iM5lmoHd2VPs",
        "colab_type": "text"
      },
      "source": [
        "### Execution"
      ]
    },
    {
      "cell_type": "code",
      "metadata": {
        "id": "-674Ex2btwxS",
        "colab_type": "code",
        "outputId": "5fb0aac2-d796-4437-aecd-6f66d6ac2bec",
        "colab": {
          "base_uri": "https://localhost:8080/",
          "height": 52
        }
      },
      "source": [
        "training=8\n",
        "#os.mkdir('train{:02d}'.format(training))\n",
        "train(train_ds, EPOCHS,training)\n",
        "generate_gifs(training)"
      ],
      "execution_count": 0,
      "outputs": [
        {
          "output_type": "stream",
          "text": [
            "Batches processed 39\n",
            "Epoch: 10\n"
          ],
          "name": "stdout"
        }
      ]
    },
    {
      "cell_type": "code",
      "metadata": {
        "id": "u1KfcD0omgIw",
        "colab_type": "code",
        "colab": {}
      },
      "source": [
        ""
      ],
      "execution_count": 0,
      "outputs": []
    },
    {
      "cell_type": "code",
      "metadata": {
        "id": "FN1edOqtsOWX",
        "colab_type": "code",
        "colab": {}
      },
      "source": [
        ""
      ],
      "execution_count": 0,
      "outputs": []
    },
    {
      "cell_type": "code",
      "metadata": {
        "id": "7xQsEJlBx8js",
        "colab_type": "code",
        "colab": {}
      },
      "source": [
        ""
      ],
      "execution_count": 0,
      "outputs": []
    },
    {
      "cell_type": "code",
      "metadata": {
        "id": "7LDuTKOV3qxR",
        "colab_type": "code",
        "colab": {}
      },
      "source": [
        ""
      ],
      "execution_count": 0,
      "outputs": []
    },
    {
      "cell_type": "code",
      "metadata": {
        "id": "kq0IyAnP9Y-i",
        "colab_type": "code",
        "colab": {}
      },
      "source": [
        ""
      ],
      "execution_count": 0,
      "outputs": []
    },
    {
      "cell_type": "code",
      "metadata": {
        "id": "_FmgNcwgDHMI",
        "colab_type": "code",
        "colab": {}
      },
      "source": [
        ""
      ],
      "execution_count": 0,
      "outputs": []
    },
    {
      "cell_type": "code",
      "metadata": {
        "id": "jJOupT_AI1au",
        "colab_type": "code",
        "colab": {}
      },
      "source": [
        ""
      ],
      "execution_count": 0,
      "outputs": []
    },
    {
      "cell_type": "code",
      "metadata": {
        "id": "W-0FB75SOjoq",
        "colab_type": "code",
        "colab": {}
      },
      "source": [
        ""
      ],
      "execution_count": 0,
      "outputs": []
    },
    {
      "cell_type": "code",
      "metadata": {
        "id": "rV8e-AMgUR2F",
        "colab_type": "code",
        "colab": {}
      },
      "source": [
        ""
      ],
      "execution_count": 0,
      "outputs": []
    },
    {
      "cell_type": "code",
      "metadata": {
        "id": "bnH3iDpraADl",
        "colab_type": "code",
        "colab": {}
      },
      "source": [
        ""
      ],
      "execution_count": 0,
      "outputs": []
    },
    {
      "cell_type": "code",
      "metadata": {
        "id": "GUjIQOxdfuRN",
        "colab_type": "code",
        "colab": {}
      },
      "source": [
        ""
      ],
      "execution_count": 0,
      "outputs": []
    },
    {
      "cell_type": "code",
      "metadata": {
        "id": "iC0mEksAlceV",
        "colab_type": "code",
        "colab": {}
      },
      "source": [
        ""
      ],
      "execution_count": 0,
      "outputs": []
    },
    {
      "cell_type": "code",
      "metadata": {
        "id": "ZtZfTeCvrKr1",
        "colab_type": "code",
        "colab": {}
      },
      "source": [
        ""
      ],
      "execution_count": 0,
      "outputs": []
    },
    {
      "cell_type": "code",
      "metadata": {
        "id": "7HhmhkhPw45V",
        "colab_type": "code",
        "colab": {}
      },
      "source": [
        ""
      ],
      "execution_count": 0,
      "outputs": []
    },
    {
      "cell_type": "code",
      "metadata": {
        "id": "JwNDuewr2nG3",
        "colab_type": "code",
        "colab": {}
      },
      "source": [
        ""
      ],
      "execution_count": 0,
      "outputs": []
    },
    {
      "cell_type": "code",
      "metadata": {
        "id": "HjnqJvmv8VUu",
        "colab_type": "code",
        "colab": {}
      },
      "source": [
        ""
      ],
      "execution_count": 0,
      "outputs": []
    },
    {
      "cell_type": "code",
      "metadata": {
        "id": "MoJ3YekGCDiR",
        "colab_type": "code",
        "colab": {}
      },
      "source": [
        ""
      ],
      "execution_count": 0,
      "outputs": []
    },
    {
      "cell_type": "code",
      "metadata": {
        "id": "zjjjW0H4sY9M",
        "colab_type": "code",
        "colab": {}
      },
      "source": [
        "training=8\n",
        "restore_train(train_ds, EPOCHS, training, 5)\n",
        "generate_gifs(training)"
      ],
      "execution_count": 0,
      "outputs": []
    },
    {
      "cell_type": "code",
      "metadata": {
        "id": "f5ruiwHiQcXS",
        "colab_type": "code",
        "colab": {}
      },
      "source": [
        "generator.summary()"
      ],
      "execution_count": 0,
      "outputs": []
    },
    {
      "cell_type": "markdown",
      "metadata": {
        "id": "b_3OTuxSP7uh",
        "colab_type": "text"
      },
      "source": [
        "### JavaScript Functions to avoid timeout"
      ]
    },
    {
      "cell_type": "code",
      "metadata": {
        "id": "cAPoN5efO_vu",
        "colab_type": "code",
        "colab": {}
      },
      "source": [
        "function ClickConnect(){\n",
        "    console.log('Working.')\n",
        "    document.querySelector(\"colab-toolbar-button\").click() \n",
        "}\n",
        "\n",
        "// Get the Interval ID 25 mins\n",
        "var setInterval_ID = setInterval(ClickConnect, 1500000);\n",
        "\n",
        "// Set timeout to call stop_interval function after 12 seconds\n",
        "//setTimeout(stop_interval, 12000);\n",
        "\n",
        "function stop_interval(){\n",
        "  \tclearInterval(setInterval_ID);\n",
        "}\n"
      ],
      "execution_count": 0,
      "outputs": []
    },
    {
      "cell_type": "markdown",
      "metadata": {
        "id": "R4NPrGGSyg70",
        "colab_type": "text"
      },
      "source": [
        "### Blanks\n"
      ]
    },
    {
      "cell_type": "code",
      "metadata": {
        "id": "jHf1Rcsg9ndq",
        "colab_type": "code",
        "colab": {}
      },
      "source": [
        ""
      ],
      "execution_count": 0,
      "outputs": []
    },
    {
      "cell_type": "code",
      "metadata": {
        "id": "GkEzV6hfI9SS",
        "colab_type": "code",
        "colab": {}
      },
      "source": [
        ""
      ],
      "execution_count": 0,
      "outputs": []
    },
    {
      "cell_type": "code",
      "metadata": {
        "id": "VwuWO6RNOrfn",
        "colab_type": "code",
        "colab": {}
      },
      "source": [
        ""
      ],
      "execution_count": 0,
      "outputs": []
    },
    {
      "cell_type": "code",
      "metadata": {
        "id": "TnrqxASgUZtA",
        "colab_type": "code",
        "colab": {}
      },
      "source": [
        ""
      ],
      "execution_count": 0,
      "outputs": []
    },
    {
      "cell_type": "code",
      "metadata": {
        "id": "tDA6q_QYaH6t",
        "colab_type": "code",
        "colab": {}
      },
      "source": [
        ""
      ],
      "execution_count": 0,
      "outputs": []
    }
  ]
}